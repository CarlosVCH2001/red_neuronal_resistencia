{
 "cells": [
  {
   "cell_type": "code",
   "execution_count": null,
   "metadata": {},
   "outputs": [],
   "source": [
    "import numpy as np\n",
    "import pandas as pd\n",
    "\n",
    "# Crear un conjunto de datos de ejemplo con las características de entrada y la variable de salida\n",
    "data = {\n",
    "    'ResistenciaEsperada': [25, 30, 35, 40],\n",
    "    'Cemento': [300, 350, 400, 450],\n",
    "    'Agua': [150, 160, 170, 180],\n",
    "    'AgregadoFino': [800, 850, 900, 950],\n",
    "    'AgregadoGrueso': [1000, 1050, 1100, 1150],\n",
    "    'TiempoCurado': [7, 14, 21, 28],\n",
    "    'Carga': [15, 20, 25, 30]\n",
    "}\n",
    "\n",
    "# Crear un DataFrame de Pandas\n",
    "cemento_data = pd.DataFrame(data)"
   ]
  },
  {
   "cell_type": "code",
   "execution_count": null,
   "metadata": {},
   "outputs": [],
   "source": [
    "# Separar las características de entrada (X) y la variable objetivo de salida (y)\n",
    "X = cemento_data.drop('Carga', axis=1)  # Características de entrada\n",
    "y = cemento_data['Carga']  # Variable objetivo (carga)"
   ]
  },
  {
   "cell_type": "code",
   "execution_count": null,
   "metadata": {},
   "outputs": [],
   "source": [
    "X"
   ]
  },
  {
   "cell_type": "code",
   "execution_count": null,
   "metadata": {},
   "outputs": [],
   "source": [
    "from tensorflow.keras.models import Sequential\n",
    "from tensorflow.keras.layers import Dense\n",
    "\n",
    "# Crear el modelo\n",
    "model = Sequential()\n",
    "model.add(Dense(10, input_dim=6, activation='relu'))  # Capa de entrada con 6 neuronas y función de activación ReLU\n",
    "model.add(Dense(8, activation='relu'))  # Capa oculta con 8 neuronas y función de activación ReLU\n",
    "model.add(Dense(1, activation='linear'))  # Capa de salida con 1 neurona (carga) y función lineal (regresión)\n",
    "\n",
    "# Compilar el modelo\n",
    "model.compile(loss='mean_squared_error', optimizer='adam')  # Función de pérdida y optimizador\n",
    "\n",
    "# Entrenar el modelo con los datos\n",
    "history = model.fit(X, y, epochs=1000, batch_size=2, validation_split=0.2)"
   ]
  },
  {
   "cell_type": "code",
   "execution_count": null,
   "metadata": {},
   "outputs": [],
   "source": [
    "import matplotlib.pyplot as plt\n",
    "\n",
    "# Mostrar el comportamiento de la pérdida durante el entrenamiento\n",
    "plt.plot(history.history['loss'], label='Training Loss')\n",
    "plt.plot(history.history['val_loss'], label='Validation Loss')\n",
    "plt.title('Comportamiento de la pérdida durante el entrenamiento')\n",
    "plt.xlabel('Épocas')\n",
    "plt.ylabel('Pérdida')\n",
    "plt.legend()\n",
    "plt.show()"
   ]
  },
  {
   "cell_type": "code",
   "execution_count": null,
   "metadata": {},
   "outputs": [],
   "source": [
    "# Suponiendo que tienes tu modelo previamente entrenado llamado 'model'\n",
    "\n",
    "def predecir_carga_cemento(model, resistencia, cemento, agua, fino, grueso, tiempo):\n",
    "    # Formatear las entradas del usuario como un arreglo de Numpy para hacer la predicción\n",
    "    inputs = np.array([[resistencia, cemento, agua, fino, grueso, tiempo]])\n",
    "    \n",
    "    # Realizar la predicción con el modelo entrenado\n",
    "    predicted_carga = model.predict(inputs)\n",
    "    \n",
    "    return predicted_carga[0][0]  # La predicción es un arreglo 2D, por eso se accede al valor con [0][0]\n",
    "\n",
    "# Obtener las entradas del usuario\n",
    "resistencia_input = float(input(\"Ingresa la resistencia esperada: \"))\n",
    "cemento_input = float(input(\"Ingresa la cantidad de cemento: \"))\n",
    "agua_input = float(input(\"Ingresa la cantidad de agua: \"))\n",
    "fino_input = float(input(\"Ingresa la cantidad de agregado fino: \"))\n",
    "grueso_input = float(input(\"Ingresa la cantidad de agregado grueso: \"))\n",
    "tiempo_input = float(input(\"Ingresa el tiempo de curado: \"))\n",
    "\n",
    "# Realizar la predicción llamando a la función con las entradas proporcionadas\n",
    "resultado_prediccion = predecir_carga_cemento(model, resistencia_input, cemento_input, agua_input, fino_input, grueso_input, tiempo_input)\n",
    "\n",
    "print(f\"La carga estimada es: {resultado_prediccion:.2f}\")"
   ]
  }
 ],
 "metadata": {
  "kernelspec": {
   "display_name": "Python 3",
   "language": "python",
   "name": "python3"
  },
  "language_info": {
   "codemirror_mode": {
    "name": "ipython",
    "version": 3
   },
   "file_extension": ".py",
   "mimetype": "text/x-python",
   "name": "python",
   "nbconvert_exporter": "python",
   "pygments_lexer": "ipython3",
   "version": "3.11.4"
  }
 },
 "nbformat": 4,
 "nbformat_minor": 2
}
