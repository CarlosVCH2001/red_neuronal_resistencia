{
 "cells": [
  {
   "cell_type": "code",
   "execution_count": null,
   "metadata": {},
   "outputs": [],
   "source": [
    "import pandas as pd\n",
    "from sklearn.model_selection import train_test_split"
   ]
  },
  {
   "cell_type": "code",
   "execution_count": 8,
   "metadata": {},
   "outputs": [],
   "source": [
    "# Carga del dataset dataset-ms.xlsx\n",
    "excel_file = '../dataset/ms/dataset-ms.xlsx'\n",
    "data = pd.read_excel(excel_file)\n",
    "\n",
    "# Divide tus datos en conjuntos de entrenamiento y prueba, estratificados por la resistencia esperada\n",
    "X_train, X_test, y_train, y_test = train_test_split(X, y, test_size=0.10, stratify=data['ResistenciaEsperada'], random_state=42)\n",
    "\n",
    "# Guarda estos conjuntos en hojas de Excel separadas en el mismo archivo\n",
    "with pd.ExcelWriter(excel_file, engine='openpyxl') as writer:\n",
    "    train_data = pd.concat([X_train, y_train], axis=1)\n",
    "    train_data.to_excel(writer, sheet_name='train', index=False)\n",
    "\n",
    "    test_data = pd.concat([X_test, y_test], axis=1)\n",
    "    test_data.to_excel(writer, sheet_name='test', index=False)"
   ]
  },
  {
   "cell_type": "code",
   "execution_count": 9,
   "metadata": {},
   "outputs": [],
   "source": [
    "# Carga del dataset dataset-ico.xlsx\n",
    "excel_file = '../dataset/ico/dataset-ico.xlsx'\n",
    "data = pd.read_excel(excel_file)\n",
    "\n",
    "# Divide tus datos en conjuntos de entrenamiento y prueba, estratificados por la resistencia esperada\n",
    "X_train, X_test, y_train, y_test = train_test_split(X, y, test_size=0.10, stratify=data['ResistenciaEsperada'], random_state=42)\n",
    "\n",
    "# Guarda estos conjuntos en hojas de Excel separadas en el mismo archivo\n",
    "with pd.ExcelWriter(excel_file, engine='openpyxl') as writer:\n",
    "    train_data = pd.concat([X_train, y_train], axis=1)\n",
    "    train_data.to_excel(writer, sheet_name='train', index=False)\n",
    "\n",
    "    test_data = pd.concat([X_test, y_test], axis=1)\n",
    "    test_data.to_excel(writer, sheet_name='test', index=False)"
   ]
  }
 ],
 "metadata": {
  "kernelspec": {
   "display_name": "Entorno",
   "language": "python",
   "name": "python3"
  },
  "language_info": {
   "codemirror_mode": {
    "name": "ipython",
    "version": 3
   },
   "file_extension": ".py",
   "mimetype": "text/x-python",
   "name": "python",
   "nbconvert_exporter": "python",
   "pygments_lexer": "ipython3",
   "version": "3.11.4"
  }
 },
 "nbformat": 4,
 "nbformat_minor": 2
}
