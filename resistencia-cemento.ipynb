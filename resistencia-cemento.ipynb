{
 "cells": [
  {
   "cell_type": "code",
   "execution_count": 39,
   "metadata": {},
   "outputs": [],
   "source": [
    "import pandas as pd\n",
    "import tensorflow as tf\n",
    "from tensorflow.keras.models import Sequential\n",
    "from tensorflow.keras.layers import Dense\n",
    "from sklearn.preprocessing import StandardScaler\n",
    "from sklearn.model_selection import train_test_split"
   ]
  },
  {
   "cell_type": "code",
   "execution_count": 40,
   "metadata": {},
   "outputs": [],
   "source": [
    "# Ruta de tu archivo Excel\n",
    "excel_file = 'C:/CARLOS/RN_ARTIFICIAL/BD_CEMENTO_MS.xlsx'"
   ]
  },
  {
   "cell_type": "code",
   "execution_count": 41,
   "metadata": {},
   "outputs": [],
   "source": [
    "# Cargar los datos de las hojas correspondientes\n",
    "train_data = pd.read_excel(excel_file, sheet_name='Entrenamiento')\n",
    "val_data = pd.read_excel(excel_file, sheet_name='Validacion')\n",
    "test_data = pd.read_excel(excel_file, sheet_name='Prueba')"
   ]
  },
  {
   "cell_type": "code",
   "execution_count": 42,
   "metadata": {},
   "outputs": [],
   "source": [
    "# Dividir tus datos en características de entrada (X) y variable objetivo (y)\n",
    "X_train = train_data[['Cemento', 'Agua', 'AgregadoFino', 'AgregadoGrueso', 'TiempoCurado']]\n",
    "y_train = train_data['Carga']\n",
    "\n",
    "X_val = val_data[['Cemento', 'Agua', 'AgregadoFino', 'AgregadoGrueso', 'TiempoCurado']]\n",
    "y_val = val_data['Carga']\n",
    "\n",
    "X_test = test_data[['Cemento', 'Agua', 'AgregadoFino', 'AgregadoGrueso', 'TiempoCurado']]\n",
    "y_test = test_data['Carga']"
   ]
  },
  {
   "cell_type": "code",
   "execution_count": 49,
   "metadata": {},
   "outputs": [],
   "source": [
    "# Normalizar tus características de entrada\n",
    "scaler = StandardScaler()\n",
    "X_train = scaler.fit_transform(X_train)\n",
    "X_val = scaler.transform(X_val)\n",
    "X_test = scaler.transform(X_test)"
   ]
  },
  {
   "cell_type": "code",
   "execution_count": 50,
   "metadata": {},
   "outputs": [],
   "source": [
    "# Crear el modelo de DNN\n",
    "model = Sequential()\n",
    "model.add(Dense(64, input_dim=5, activation='relu'))  # 5 características de entrada\n",
    "model.add(Dense(32, activation='relu'))\n",
    "model.add(Dense(1, activation='linear'))  # Salida lineal para la resistencia del cemento\n"
   ]
  },
  {
   "cell_type": "code",
   "execution_count": 51,
   "metadata": {},
   "outputs": [],
   "source": [
    "# Compilar el modelo\n",
    "model.compile(loss='mean_squared_error', optimizer='adam', metrics=['mae'])  # Cambiamos 'accuracy' por 'mae'\n"
   ]
  },
  {
   "cell_type": "code",
   "execution_count": 52,
   "metadata": {},
   "outputs": [
    {
     "name": "stdout",
     "output_type": "stream",
     "text": [
      "Epoch 1/20\n",
      "9/9 [==============================] - 2s 38ms/step - loss: 267369424.0000 - mae: 14634.1670 - val_loss: 224618784.0000 - val_mae: 13444.4521\n",
      "Epoch 2/20\n",
      "9/9 [==============================] - 0s 11ms/step - loss: 267356736.0000 - mae: 14633.7363 - val_loss: 224605488.0000 - val_mae: 13443.9629\n",
      "Epoch 3/20\n",
      "9/9 [==============================] - 0s 9ms/step - loss: 267340464.0000 - mae: 14633.2021 - val_loss: 224589056.0000 - val_mae: 13443.3564\n",
      "Epoch 4/20\n",
      "9/9 [==============================] - 0s 9ms/step - loss: 267320560.0000 - mae: 14632.5342 - val_loss: 224567600.0000 - val_mae: 13442.5693\n",
      "Epoch 5/20\n",
      "9/9 [==============================] - 0s 9ms/step - loss: 267294080.0000 - mae: 14631.6426 - val_loss: 224538400.0000 - val_mae: 13441.5029\n",
      "Epoch 6/20\n",
      "9/9 [==============================] - 0s 9ms/step - loss: 267257008.0000 - mae: 14630.4414 - val_loss: 224499472.0000 - val_mae: 13440.0820\n",
      "Epoch 7/20\n",
      "9/9 [==============================] - 0s 9ms/step - loss: 267208112.0000 - mae: 14628.8398 - val_loss: 224447680.0000 - val_mae: 13438.1982\n",
      "Epoch 8/20\n",
      "9/9 [==============================] - 0s 10ms/step - loss: 267145200.0000 - mae: 14626.7393 - val_loss: 224380064.0000 - val_mae: 13435.7412\n",
      "Epoch 9/20\n",
      "9/9 [==============================] - 0s 15ms/step - loss: 267064528.0000 - mae: 14624.0322 - val_loss: 224293808.0000 - val_mae: 13432.6104\n",
      "Epoch 10/20\n",
      "9/9 [==============================] - 0s 10ms/step - loss: 266958096.0000 - mae: 14620.6201 - val_loss: 224187280.0000 - val_mae: 13428.7480\n",
      "Epoch 11/20\n",
      "9/9 [==============================] - 0s 10ms/step - loss: 266829120.0000 - mae: 14616.3906 - val_loss: 224054048.0000 - val_mae: 13423.9219\n",
      "Epoch 12/20\n",
      "9/9 [==============================] - 0s 9ms/step - loss: 266673424.0000 - mae: 14611.1191 - val_loss: 223889168.0000 - val_mae: 13417.9580\n",
      "Epoch 13/20\n",
      "9/9 [==============================] - 0s 9ms/step - loss: 266474368.0000 - mae: 14604.7393 - val_loss: 223693312.0000 - val_mae: 13410.8730\n",
      "Epoch 14/20\n",
      "9/9 [==============================] - 0s 20ms/step - loss: 266241552.0000 - mae: 14597.0684 - val_loss: 223458064.0000 - val_mae: 13402.3652\n",
      "Epoch 15/20\n",
      "9/9 [==============================] - 0s 9ms/step - loss: 265966832.0000 - mae: 14587.9541 - val_loss: 223178592.0000 - val_mae: 13392.2549\n",
      "Epoch 16/20\n",
      "9/9 [==============================] - 0s 9ms/step - loss: 265634960.0000 - mae: 14577.2480 - val_loss: 222856576.0000 - val_mae: 13380.5918\n",
      "Epoch 17/20\n",
      "9/9 [==============================] - 0s 9ms/step - loss: 265260288.0000 - mae: 14564.8691 - val_loss: 222484128.0000 - val_mae: 13367.0918\n",
      "Epoch 18/20\n",
      "9/9 [==============================] - 0s 9ms/step - loss: 264826640.0000 - mae: 14550.6670 - val_loss: 222061440.0000 - val_mae: 13351.7529\n",
      "Epoch 19/20\n",
      "9/9 [==============================] - 0s 9ms/step - loss: 264340128.0000 - mae: 14534.6006 - val_loss: 221582400.0000 - val_mae: 13334.3418\n",
      "Epoch 20/20\n",
      "9/9 [==============================] - 0s 8ms/step - loss: 263793184.0000 - mae: 14516.3809 - val_loss: 221043936.0000 - val_mae: 13314.7539\n"
     ]
    }
   ],
   "source": [
    "# Entrenar el modelo\n",
    "history = model.fit(X_train, y_train, epochs=20, batch_size=32, validation_data=(X_val, y_val))"
   ]
  },
  {
   "cell_type": "code",
   "execution_count": 48,
   "metadata": {},
   "outputs": [
    {
     "ename": "KeyError",
     "evalue": "'accuracy'",
     "output_type": "error",
     "traceback": [
      "\u001b[1;31m---------------------------------------------------------------------------\u001b[0m",
      "\u001b[1;31mKeyError\u001b[0m                                  Traceback (most recent call last)",
      "\u001b[1;32mc:\\CARLOS\\RN_ARTIFICIAL\\RED_NEURONAL_ENTRENAMIENTO.ipynb Celda 9\u001b[0m line \u001b[0;36m6\n\u001b[0;32m      <a href='vscode-notebook-cell:/c%3A/CARLOS/RN_ARTIFICIAL/RED_NEURONAL_ENTRENAMIENTO.ipynb#X16sZmlsZQ%3D%3D?line=3'>4</a>\u001b[0m loss \u001b[39m=\u001b[39m history\u001b[39m.\u001b[39mhistory[\u001b[39m'\u001b[39m\u001b[39mloss\u001b[39m\u001b[39m'\u001b[39m]\n\u001b[0;32m      <a href='vscode-notebook-cell:/c%3A/CARLOS/RN_ARTIFICIAL/RED_NEURONAL_ENTRENAMIENTO.ipynb#X16sZmlsZQ%3D%3D?line=4'>5</a>\u001b[0m val_loss \u001b[39m=\u001b[39m history\u001b[39m.\u001b[39mhistory[\u001b[39m'\u001b[39m\u001b[39mval_loss\u001b[39m\u001b[39m'\u001b[39m]\n\u001b[1;32m----> <a href='vscode-notebook-cell:/c%3A/CARLOS/RN_ARTIFICIAL/RED_NEURONAL_ENTRENAMIENTO.ipynb#X16sZmlsZQ%3D%3D?line=5'>6</a>\u001b[0m accuracy \u001b[39m=\u001b[39m history\u001b[39m.\u001b[39;49mhistory[\u001b[39m'\u001b[39;49m\u001b[39maccuracy\u001b[39;49m\u001b[39m'\u001b[39;49m]\n\u001b[0;32m      <a href='vscode-notebook-cell:/c%3A/CARLOS/RN_ARTIFICIAL/RED_NEURONAL_ENTRENAMIENTO.ipynb#X16sZmlsZQ%3D%3D?line=6'>7</a>\u001b[0m val_accuracy \u001b[39m=\u001b[39m history\u001b[39m.\u001b[39mhistory[\u001b[39m'\u001b[39m\u001b[39mval_accuracy\u001b[39m\u001b[39m'\u001b[39m]\n\u001b[0;32m      <a href='vscode-notebook-cell:/c%3A/CARLOS/RN_ARTIFICIAL/RED_NEURONAL_ENTRENAMIENTO.ipynb#X16sZmlsZQ%3D%3D?line=8'>9</a>\u001b[0m \u001b[39m# Crea una gráfica para la pérdida\u001b[39;00m\n",
      "\u001b[1;31mKeyError\u001b[0m: 'accuracy'"
     ]
    }
   ],
   "source": [
    "import matplotlib.pyplot as plt\n",
    "\n",
    "# Recoge los valores de pérdida y accuracy de la historia\n",
    "loss = history.history['loss']\n",
    "val_loss = history.history['val_loss']\n",
    "accuracy = history.history['accuracy']\n",
    "val_accuracy = history.history['val_accuracy']\n",
    "\n",
    "# Crea una gráfica para la pérdida\n",
    "plt.figure(figsize=(12, 4))\n",
    "plt.subplot(1, 2, 1)\n",
    "plt.plot(loss, label='Training Loss')\n",
    "plt.plot(val_loss, label='Validation Loss')\n",
    "plt.title('Training and Validation Loss')\n",
    "plt.xlabel('Epoch')\n",
    "plt.ylabel('Loss')\n",
    "plt.legend()\n",
    "\n",
    "# Crea una gráfica para el accuracy\n",
    "plt.subplot(1, 2, 2)\n",
    "plt.plot(accuracy, label='Training Accuracy')\n",
    "plt.plot(val_accuracy, label='Validation Accuracy')\n",
    "plt.title('Training and Validation Accuracy')\n",
    "plt.xlabel('Epoch')\n",
    "plt.ylabel('Accuracy')\n",
    "plt.legend()\n",
    "\n",
    "plt.tight_layout()\n",
    "plt.show()\n"
   ]
  },
  {
   "cell_type": "code",
   "execution_count": 9,
   "metadata": {},
   "outputs": [
    {
     "name": "stdout",
     "output_type": "stream",
     "text": [
      "1/1 [==============================] - 0s 43ms/step - loss: 266992560.0000\n",
      "Pérdida en el conjunto de prueba: 266992560.0\n"
     ]
    }
   ],
   "source": [
    "# Evaluar el modelo en el conjunto de prueba\n",
    "loss = model.evaluate(X_test, y_test)\n",
    "print(f'Pérdida en el conjunto de prueba: {loss}')"
   ]
  },
  {
   "cell_type": "code",
   "execution_count": null,
   "metadata": {},
   "outputs": [],
   "source": [
    "# Hacer predicciones\n",
    "predictions = model.predict(X_test)"
   ]
  },
  {
   "cell_type": "code",
   "execution_count": null,
   "metadata": {},
   "outputs": [],
   "source": []
  }
 ],
 "metadata": {
  "kernelspec": {
   "display_name": "Entorno",
   "language": "python",
   "name": "python3"
  },
  "language_info": {
   "codemirror_mode": {
    "name": "ipython",
    "version": 3
   },
   "file_extension": ".py",
   "mimetype": "text/x-python",
   "name": "python",
   "nbconvert_exporter": "python",
   "pygments_lexer": "ipython3",
   "version": "3.11.4"
  }
 },
 "nbformat": 4,
 "nbformat_minor": 2
}
